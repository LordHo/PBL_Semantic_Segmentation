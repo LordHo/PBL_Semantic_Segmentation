{
 "cells": [
  {
   "cell_type": "code",
   "execution_count": 11,
   "metadata": {},
   "outputs": [],
   "source": [
    "import os\n",
    "import re\n",
    "import numpy as np\n",
    "import matplotlib.pyplot as plt"
   ]
  },
  {
   "cell_type": "code",
   "execution_count": 12,
   "metadata": {},
   "outputs": [],
   "source": [
    "pattern = r'IoU: 0\\.[0-9]+'\n",
    "pattern = re.compile(pattern)\n",
    "\n",
    "loss_pattern = r'0\\.[0-9]+'\n",
    "loss_pattern = re.compile(loss_pattern)\n",
    "\n",
    "loss_history = np.array([])\n",
    "\n",
    "timestamp = '2021-12-05 02-44-43_combo_loss(ce)_Unet++'\n",
    "fold_name = 'fold 1'\n",
    "\n",
    "file_path = os.path.join('..', 'result', timestamp, fold_name, 'log.txt')\n",
    "with open(file_path, 'r') as logFile:\n",
    "    for line in logFile.readlines():\n",
    "        results = pattern.findall(line)\n",
    "        if len(results) == 2:\n",
    "            IoU, WCIoU = results\n",
    "            target = IoU\n",
    "            loss_history = np.append(loss_history, np.squeeze(loss_pattern.findall(target)).astype(float))\n",
    "        elif len(results) == 1:\n",
    "            IoU = results[0]\n",
    "            # print(IoU)\n",
    "            target = IoU\n",
    "            loss_history = np.append(loss_history, np.squeeze(loss_pattern.findall(target)).astype(float))"
   ]
  },
  {
   "cell_type": "code",
   "execution_count": 13,
   "metadata": {},
   "outputs": [
    {
     "data": {
      "text/plain": [
       "100"
      ]
     },
     "execution_count": 13,
     "metadata": {},
     "output_type": "execute_result"
    }
   ],
   "source": [
    "loss_history, \n",
    "len(loss_history)"
   ]
  },
  {
   "cell_type": "code",
   "execution_count": 14,
   "metadata": {},
   "outputs": [
    {
     "name": "stdout",
     "output_type": "stream",
     "text": [
      "Max index: 99, Max IoU: 0.838\n",
      "Min index: 1, Min IoU: 0.64\n"
     ]
    }
   ],
   "source": [
    "plt.plot([i for i in range(1, len(loss_history)+1)], loss_history)\n",
    "\n",
    "max_index = np.squeeze(np.where(loss_history == max(loss_history)))\n",
    "max_index = max_index.tolist()\n",
    "if isinstance(max_index, list):\n",
    "    max_index = max_index[-1]\n",
    "max_index += 1\n",
    "plt.scatter(max_index, max(loss_history))\n",
    "plt.annotate(max(loss_history), (max_index, max(loss_history)))\n",
    "print(f'Max index: {max_index}, Max IoU: {max(loss_history)}')\n",
    "\n",
    "min_index = np.squeeze(np.where(loss_history == min(loss_history)))\n",
    "min_index = min_index.tolist()\n",
    "if isinstance(min_index, list):\n",
    "    min_index = min_index[-1]\n",
    "min_index += 1\n",
    "plt.scatter(min_index, min(loss_history))\n",
    "plt.annotate(min(loss_history), (min_index, min(loss_history)))\n",
    "print(f'Min index: {min_index}, Min IoU: {min(loss_history)}')\n",
    "\n",
    "plt.title('IoU History')\n",
    "plt.xlabel('Epochs')\n",
    "plt.ylabel('IoU')\n",
    "# plt.show()\n",
    "loss_curve_path = os.path.join('..', 'result', timestamp, fold_name, 'IoU History.png')\n",
    "plt.savefig(loss_curve_path)\n",
    "plt.close('all')"
   ]
  },
  {
   "cell_type": "code",
   "execution_count": 15,
   "metadata": {},
   "outputs": [
    {
     "data": {
      "text/plain": [
       "'Epoch 100, Combo loss: 0.361, IoU: 0.837, lr: 1.0e-04\\n'"
      ]
     },
     "execution_count": 15,
     "metadata": {},
     "output_type": "execute_result"
    }
   ],
   "source": [
    "line"
   ]
  },
  {
   "cell_type": "code",
   "execution_count": null,
   "metadata": {},
   "outputs": [],
   "source": []
  }
 ],
 "metadata": {
  "interpreter": {
   "hash": "6bddd51c52960dd592c42e6a249a3abb964d76eb3d5c9300fe116737df38a15f"
  },
  "kernelspec": {
   "display_name": "Python 3.8.11 64-bit ('Yun_PyTorch': conda)",
   "name": "python3"
  },
  "language_info": {
   "codemirror_mode": {
    "name": "ipython",
    "version": 3
   },
   "file_extension": ".py",
   "mimetype": "text/x-python",
   "name": "python",
   "nbconvert_exporter": "python",
   "pygments_lexer": "ipython3",
   "version": "3.8.11"
  },
  "orig_nbformat": 4
 },
 "nbformat": 4,
 "nbformat_minor": 2
}
