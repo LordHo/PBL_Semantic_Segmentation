{
 "cells": [
  {
   "cell_type": "code",
   "execution_count": 1,
   "metadata": {},
   "outputs": [],
   "source": [
    "import os\n",
    "import shutil"
   ]
  },
  {
   "cell_type": "code",
   "execution_count": 4,
   "metadata": {},
   "outputs": [],
   "source": [
    "for image_name in os.listdir('labels'):\n",
    "    src = os.path.join('..', '14X label', 'complete_images', image_name)\n",
    "    dst = os.path.join('images')\n",
    "    try:\n",
    "        shutil.copy2(src=src, dst=dst)\n",
    "    except:\n",
    "        print(image_name)"
   ]
  }
 ],
 "metadata": {
  "interpreter": {
   "hash": "6bddd51c52960dd592c42e6a249a3abb964d76eb3d5c9300fe116737df38a15f"
  },
  "kernelspec": {
   "display_name": "Python 3.8.11 64-bit ('Yun_PyTorch': conda)",
   "name": "python3"
  },
  "language_info": {
   "codemirror_mode": {
    "name": "ipython",
    "version": 3
   },
   "file_extension": ".py",
   "mimetype": "text/x-python",
   "name": "python",
   "nbconvert_exporter": "python",
   "pygments_lexer": "ipython3",
   "version": "3.8.11"
  },
  "orig_nbformat": 4
 },
 "nbformat": 4,
 "nbformat_minor": 2
}
